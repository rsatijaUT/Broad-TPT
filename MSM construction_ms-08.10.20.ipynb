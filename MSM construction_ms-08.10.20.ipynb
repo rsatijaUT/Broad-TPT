{
 "cells": [
  {
   "cell_type": "markdown",
   "metadata": {},
   "source": [
    "# This notebook is to create a Markov State Model for N-terminal Domain of HIV-1 Integrase (IN) using the PyEMMA software package"
   ]
  },
  {
   "cell_type": "markdown",
   "metadata": {},
   "source": [
    "To learn how to install and use PyEMMA, please go to http://emma-project.org/latest/. This package was introduced by the Noé group:\n",
    "\n",
    "*Scherer, M. K., Trendelkamp-Schroer, B., Paul, F., Pérez-Hernández, G., Hoffmann, M., Plattner, N., ... & Noé, F. (2015). PyEMMA 2: A software package for estimation, validation, and analysis of Markov models. Journal of chemical theory and computation, 11(11), 5525-5542.*"
   ]
  },
  {
   "cell_type": "markdown",
   "metadata": {},
   "source": [
    "All-atom simulation trajectory for IN was published in the following article:\n",
    "\n",
    "*Piana, S., Donchev, A. G., Robustelli, P., & Shaw, D. E. (2015). Water dispersion interactions strongly influence simulated structural properties of disordered protein states. The journal of physical chemistry B, 119(16), 5113-5123.*\n",
    "\n",
    "and kindly provided by DE Shaw Research Group"
   ]
  },
  {
   "cell_type": "code",
   "execution_count": null,
   "metadata": {
    "collapsed": false
   },
   "outputs": [],
   "source": [
    "#Load Libraries and Modules\n",
    "\n",
    "%matplotlib inline\n",
    "\n",
    "import matplotlib.pyplot as plt\n",
    "import matplotlib as mpl\n",
    "import numpy as np\n",
    "import mdshare\n",
    "import pyemma\n",
    "from pyemma.util.contexts import settings"
   ]
  },
  {
   "cell_type": "code",
   "execution_count": null,
   "metadata": {
    "collapsed": true
   },
   "outputs": [],
   "source": [
    "pdb = 'Integrase.pdb' #Integrase structure imported from PDB (entry 1WJB)\n",
    "\n",
    "files = ['Integrase-0.dcd','Integrase-1.dcd','Integrase-2.dcd','Integrase-3.dcd'] \n",
    "#DESRES trajectories of 40µs all-atom simulation \n",
    "#(translationally and rotationally aligned to reference structure in VMD)"
   ]
  },
  {
   "cell_type": "code",
   "execution_count": null,
   "metadata": {
    "collapsed": true
   },
   "outputs": [],
   "source": [
    "#PyEMMA allows use of several kinds of featurization capabilities\n",
    "\n",
    "torsions_feat = pyemma.coordinates.featurizer(pdb)\n",
    "torsions_feat.add_backbone_torsions(cossin=True, periodic=False)\n",
    "torsions_data = pyemma.coordinates.load(files, features=torsions_feat)\n",
    "labels = ['backbone\\ntorsions']\n",
    "\n",
    "positions_feat = pyemma.coordinates.featurizer(pdb)\n",
    "positions_feat.add_selection(positions_feat.select_Ca())\n",
    "positions_data = pyemma.coordinates.load(files, features=positions_feat)\n",
    "labels += ['Ca atom\\npositions']\n",
    "\n",
    "distances_feat = pyemma.coordinates.featurizer(pdb)\n",
    "distances_feat.add_distances(\n",
    "    distances_feat.pairs(distances_feat.select_Ca(), excluded_neighbors=2), periodic=False)\n",
    "distances_data = pyemma.coordinates.load(files, features=distances_feat)\n",
    "labels += ['Ca atom\\ndistances']"
   ]
  },
  {
   "cell_type": "code",
   "execution_count": null,
   "metadata": {
    "collapsed": true
   },
   "outputs": [],
   "source": [
    "#We chose C-alpha atom positions as our feature-set for TICA transformation\n",
    "\n",
    "tica = pyemma.coordinates.tica(positions_data, lag=12)\n",
    "tica_output = tica.get_output()\n",
    "tica_concatenated = np.concatenate(tica_output)"
   ]
  },
  {
   "cell_type": "code",
   "execution_count": null,
   "metadata": {
    "collapsed": true
   },
   "outputs": [],
   "source": [
    "#The TICA-transformed coordinates are now clustered into discrete states using a k-means algorithm\n",
    "\n",
    "cluster = pyemma.coordinates.cluster_kmeans(\n",
    "    tica_output, k=350, max_iter=50, stride=1, fixed_seed=1)\n",
    "dtrajs_concatenated = np.concatenate(cluster.dtrajs)"
   ]
  },
  {
   "cell_type": "code",
   "execution_count": null,
   "metadata": {
    "collapsed": true
   },
   "outputs": [],
   "source": [
    "#A reversible MSM is estimated for the clusters with the lag-time optimized such that the end-to-end distance\n",
    "#autocorrelation function (our observable) predicted by it matches with that obtained from the data (see below)\n",
    "\n",
    "msm = pyemma.msm.bayesian_markov_model(cluster.dtrajs, reversible=True, lag=21, dt_traj='1 ns')\n",
    "print('fraction of states used = {:.2f}'.format(msm.active_state_fraction))\n",
    "print('fraction of counts used = {:.2f}'.format(msm.active_count_fraction))"
   ]
  },
  {
   "cell_type": "code",
   "execution_count": null,
   "metadata": {
    "collapsed": true
   },
   "outputs": [],
   "source": [
    "#End-to-end distance from original trajectory\n",
    "\n",
    "import pyemma.coordinates as coor\n",
    "\n",
    "feat = coor.featurizer(pdb)\n",
    "feat.add_distances(np.array([[1,890]]), periodic=False)\n",
    "D = coor.load(files, feat)\n",
    "\n",
    "D=np.concatenate(tuple(D))\n",
    "D=np.concatenate(tuple(D))"
   ]
  },
  {
   "cell_type": "code",
   "execution_count": null,
   "metadata": {
    "collapsed": true
   },
   "outputs": [],
   "source": [
    "#End-to-end distance reconstructed using MSM\n",
    "\n",
    "dtrajs=cluster.dtrajs\n",
    "dtrajs[0]\n",
    "\n",
    "def average_by_state(dtraj, x, nstates):\n",
    "    assert(len(dtraj) == len(x))\n",
    "    N = len(dtraj)\n",
    "    res = np.zeros((nstates))\n",
    "    for i in range(nstates):\n",
    "        I = np.argwhere(dtraj == i)[:,0]\n",
    "        res[i] = np.mean(x[I])\n",
    "    return res\n",
    "\n",
    "dmean = average_by_state(dtrajs_concatenated, D, msm.nstates)\n",
    "\n",
    "dMSM = np.array([dmean[state] for state in dtrajs_concatenated])\n",
    "\n",
    "plt.plot(D, linewidth=2)\n",
    "plt.plot(dMSM, linewidth=2)\n",
    "plt.xlabel('time / ns')\n",
    "plt.ylabel('D')"
   ]
  },
  {
   "cell_type": "code",
   "execution_count": null,
   "metadata": {
    "collapsed": true
   },
   "outputs": [],
   "source": [
    "#Compare end-to-end distance autocorrelation functions\n",
    "\n",
    "print(msm.expectation(dmean)**2)\n",
    "print(np.mean(D)**2)\n",
    "print(msm.expectation(dmean**2))\n",
    "print(np.mean(D**2))\n",
    "\n",
    "corr_exact = np.correlate(D,D,\"full\")[:len(D/2)]\n",
    "corr_exact=corr_exact[::-1]\n",
    "\n",
    "corr_exact = [y/(len(corr_exact)-x) for (x,y) in enumerate(corr_exact)]\n",
    "\n",
    "length=1500\n",
    "frac=1\n",
    "\n",
    "poscor=corr_exact[:length]\n",
    "times_exact=np.array([x for x in range(length)])\n",
    "plt.plot(times_exact, poscor, linewidth=2)\n",
    "plt.xlabel('time / ns')\n",
    "plt.ylabel('autocorrelation')\n",
    "\n",
    "times, corr = msm.correlation(dmean, maxtime=1500)\n",
    "times=times[:int(length*frac)]\n",
    "corr=corr[:int(length*frac)]\n",
    "plt.plot(times, corr, linewidth=2)\n",
    "plt.xlabel('time / ns')\n",
    "plt.ylabel('autocorrelation')\n",
    "\n",
    "plt.plot(times, [msm.expectation(dmean)**2]*len(times), linewidth=2)\n",
    "\n",
    "plt.plot(times, [np.mean(D)**2]*len(times), linewidth=2)"
   ]
  },
  {
   "cell_type": "markdown",
   "metadata": {},
   "source": [
    "Thus, we have constructed an MSM that successfully predicts the end-to-end distance correlation function observed in the data"
   ]
  },
  {
   "cell_type": "code",
   "execution_count": null,
   "metadata": {
    "collapsed": true
   },
   "outputs": [],
   "source": [
    "# Calculate rate matrix for analysis\n",
    "\n",
    "from msmtools.estimation import count_matrix, rate_matrix\n",
    "c=count_matrix(dtrajs_concatenated, lag)\n",
    "\n",
    "rmethCVE=rate_matrix(c.toarray(), lag, method='CVE')\n",
    "rmethCVE[:3,:3]"
   ]
  },
  {
   "cell_type": "code",
   "execution_count": null,
   "metadata": {
    "collapsed": true
   },
   "outputs": [],
   "source": [
    "#Write to file\n",
    "\n",
    "with open('rmethCVE-MSM_IN_TICAlag12_k350_lag21.dat','wb') as f:\n",
    "    np.savetxt(f, rmethCVE, fmt='%.12f')"
   ]
  },
  {
   "cell_type": "code",
   "execution_count": null,
   "metadata": {
    "collapsed": true
   },
   "outputs": [],
   "source": [
    "#Demarcate the transition region (TR) states from states to the left (L) of the TR and to right (R)\n",
    "\n",
    "trTable=np.array([i for (i,num) in enumerate(dmean) if num>2 and num<6])\n",
    "\n",
    "with open('trTable-MSM_IN_TICAlag12_k350_lag21.dat','wb') as f:\n",
    "    np.savetxt(f, trTable, fmt='%d')\n",
    "    \n",
    "rTable=np.array([i for (i,num) in enumerate(dmean) if num>6])\n",
    "\n",
    "with open('rTable-MSM_IN_TICAlag12_k350_lag21.dat','wb') as f:\n",
    "    np.savetxt(f, rTable, fmt='%d')\n",
    "    \n",
    "lTable=np.array([i for (i,num) in enumerate(dmean) if num<2])\n",
    "\n",
    "with open('lTable-MSM_IN_TICAlag12_k350_lag21.dat','wb') as f:\n",
    "    np.savetxt(f, lTable, fmt='%d')"
   ]
  },
  {
   "cell_type": "markdown",
   "metadata": {},
   "source": [
    "Next, follow the Mathematica notebook to extract transition path times"
   ]
  }
 ],
 "metadata": {
  "kernelspec": {
   "display_name": "Python 3",
   "language": "python",
   "name": "python3"
  },
  "language_info": {
   "codemirror_mode": {
    "name": "ipython",
    "version": 3
   },
   "file_extension": ".py",
   "mimetype": "text/x-python",
   "name": "python",
   "nbconvert_exporter": "python",
   "pygments_lexer": "ipython3",
   "version": "3.7.3"
  }
 },
 "nbformat": 4,
 "nbformat_minor": 2
}
